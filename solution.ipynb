{
 "cells": [
  {
   "cell_type": "markdown",
   "id": "ceaa359c-2685-4bca-b27a-a4b562e166aa",
   "metadata": {},
   "source": [
    "# Importar Librerías"
   ]
  },
  {
   "cell_type": "code",
   "execution_count": null,
   "id": "d178d004-2201-4dbb-83e3-edc5fe6cd3ca",
   "metadata": {},
   "outputs": [],
   "source": [
    "from pprint import pprint as print\n",
    "import numpy as np\n",
    "import pandas as pd\n",
    "import pandas_profiling as pp\n",
    "import datetime\n",
    "import random\n",
    "import catboost as ctb\n",
    "from matplotlib import pyplot as plt\n",
    "from mpl_toolkits.basemap import Basemap\n",
    "import plotly.express as px\n",
    "import plotly.graph_objects as go\n",
    "from plotly.subplots import make_subplots\n",
    "from sklearn.metrics import classification_report"
   ]
  },
  {
   "cell_type": "markdown",
   "id": "be4f5ce6-dc16-478b-b221-8eb434effd86",
   "metadata": {},
   "source": [
    "## Config librerías"
   ]
  },
  {
   "cell_type": "code",
   "execution_count": null,
   "id": "b7d91d02-b9fa-4262-a635-b403440254d1",
   "metadata": {},
   "outputs": [],
   "source": [
    "# Seed numpy and random to reproduce same results\n",
    "np.random.seed(42)\n",
    "random.seed(42)\n",
    "# Pandas use plotly instead of matplotlib as backend\n",
    "pd.options.plotting.backend = \"plotly\" \n",
    "# Pandas dataframe display config\n",
    "pd.set_option('display.max_rows', 100)\n",
    "pd.set_option('display.max_columns', 30)"
   ]
  },
  {
   "cell_type": "markdown",
   "id": "fc2fe9de-e974-46d6-9ce4-bd7976648b6b",
   "metadata": {},
   "source": [
    "# Carga de Datos"
   ]
  },
  {
   "cell_type": "markdown",
   "id": "e9b3088d-a3db-4cf9-8a4f-f4da17da7e73",
   "metadata": {},
   "source": [
    "## Carga datos desafío"
   ]
  },
  {
   "cell_type": "code",
   "execution_count": null,
   "id": "5f6c46c2-dea2-48e8-93dc-b49cd9a614a3",
   "metadata": {},
   "outputs": [],
   "source": [
    "flights_raw = pd.read_csv('./dataset_SCL.csv')\n",
    "flights = flights_raw.copy()\n",
    "flights.head()"
   ]
  },
  {
   "cell_type": "markdown",
   "id": "c8fd9ce4-9fd1-4b48-a029-7cb867e08e07",
   "metadata": {},
   "source": [
    "## Carga datos códigos aerolineas\n",
    "**Fuente**: https://en.wikipedia.org/wiki/List_of_airline_codes\n",
    "\n",
    "**Modificaciones**:\n",
    "- Se agregaron un par de filas manualmente\n",
    "- Se eliminaron duplicados por ICAO manualmente en el archivo"
   ]
  },
  {
   "cell_type": "code",
   "execution_count": null,
   "id": "68880f02-8d2e-46ef-bcc8-80d82a936cb6",
   "metadata": {},
   "outputs": [],
   "source": [
    "# read csv\n",
    "airline_codes = pd.read_csv('./airline_codes.csv')\n",
    "airline_codes = airline_codes[['ICAO', 'Airline', 'Country/Region']] \n",
    "airline_codes.columns = [c.lower().replace('/','_') for c in airline_codes.columns]\n",
    "airline_codes = airline_codes.drop_duplicates()\n",
    "airline_codes.head()"
   ]
  },
  {
   "cell_type": "markdown",
   "id": "f2e7e6df-d869-4765-9ee0-cf95d2c1472d",
   "metadata": {},
   "source": [
    "## Carga datos códigos aeropuertos\n",
    "**Fuente**: https://github.com/datasets/airport-codes\n",
    "\n",
    "**Modificaciones**:\n",
    "- Se agregaron un par de filas manualmente"
   ]
  },
  {
   "cell_type": "code",
   "execution_count": null,
   "id": "06126fa1-5745-4027-bfa3-4d642e1c74d3",
   "metadata": {},
   "outputs": [],
   "source": [
    "# read csv\n",
    "airport_codes = pd.read_csv('./airport-codes.csv')\n",
    "# create column for lat and long\n",
    "airport_codes[['lat', 'lon']] = pd.DataFrame(airport_codes.coordinates.str.split(',').to_list()).astype(float)\n",
    "# Dejamos solo las columnas de interés\n",
    "airport_codes = airport_codes[['ident', 'type', 'name', 'lat', 'lon']]\n",
    "airport_codes[['lat', 'lon']] = airport_codes[['lat', 'lon']].astype(float)\n",
    "airline_codes = airline_codes.drop_duplicates()\n",
    "airport_codes.head()\n"
   ]
  },
  {
   "cell_type": "markdown",
   "id": "7db038f8-9c32-4005-bc4b-dd68d55cffa2",
   "metadata": {},
   "source": [
    "- `Des-I `: Código de ciudad de destino programado.\n",
    "- `Des-O `: Código de ciudad de destino de operación.\n",
    "- `Emp-I `: Código aerolínea de vuelo programado.\n",
    "- `Emp-O `: Código aerolínea de vuelo operado.\n",
    "- `Fecha-I` : Fecha y hora programada del vuelo.\n",
    "- `Fecha-O `: Fecha y hora de operación del vuelo.\n",
    "- `Ori-I `: Código de ciudad de origen programado.\n",
    "- `Ori-O `: Código de ciudad de origen de operación\n",
    "- `Vlo-I `: Número de vuelo programado.\n",
    "- `Vlo-O `: Número de vuelo de operación del vuelo.\n",
    "- `OPERA `: Nombre de aerolínea que opera.\n",
    "- `SIGLADES `: Nombre ciudad destino.\n",
    "- `SIGLAORI `: Nombre ciudad origen.\n",
    "- `TIPOVUELO `: Tipo de vuelo, I =Internacional, N =Nacional.\n",
    "- `AÑO `: Año de operación del vuelo.\n",
    "- `MES `: Número de mes de operación del vuelo.\n",
    "- `DIA `: Día del mes de operación del vuelo.\n",
    "- `DIANOM `: Día de la semana de operación del vuelo."
   ]
  },
  {
   "cell_type": "markdown",
   "id": "73b896ce-d5d0-4f8e-acf6-0a36cc035d66",
   "metadata": {
    "tags": []
   },
   "source": [
    "## Formateo rápido de los datos"
   ]
  },
  {
   "cell_type": "markdown",
   "id": "18cbee78-73c3-47ae-91b8-aaba389efdd6",
   "metadata": {},
   "source": [
    "### Cambiamos los `-` por `_` y dejamos todo en minuscula en los nombres de columna por conveniencia y orden"
   ]
  },
  {
   "cell_type": "code",
   "execution_count": null,
   "id": "b1128027-720a-4357-bb9d-4129dd007a0b",
   "metadata": {},
   "outputs": [],
   "source": [
    "flights.columns = [c.replace('-', '_').lower() for c in flights.columns]"
   ]
  },
  {
   "cell_type": "markdown",
   "id": "ae2630b3-0b0e-44e4-a681-89712520c837",
   "metadata": {
    "tags": []
   },
   "source": [
    "### Ordenamos las columnas para facilitar la lectura"
   ]
  },
  {
   "cell_type": "code",
   "execution_count": null,
   "id": "f79712d6-71de-441c-9dfd-0f669f8fa8f1",
   "metadata": {},
   "outputs": [],
   "source": [
    "flights = flights[[c for c in flights.columns if '_' not in c] + sorted(list(flights.filter(regex='.*_.*').columns))]"
   ]
  },
  {
   "cell_type": "markdown",
   "id": "a94f6308-c8e7-455d-b398-82b15e2fc6b6",
   "metadata": {},
   "source": [
    "### Asignamos los tipos de datos correctos a algunas columnas que se leyeron mal"
   ]
  },
  {
   "cell_type": "code",
   "execution_count": null,
   "id": "a5546ff1-3483-4205-a5fd-121a618536ce",
   "metadata": {},
   "outputs": [],
   "source": [
    "flights = flights.astype({'vlo_i':'str', 'vlo_o':'str', 'fecha_o':'datetime64[ns]', 'fecha_i':'datetime64[ns]'})"
   ]
  },
  {
   "cell_type": "markdown",
   "id": "06755edc-fa8c-4ef9-86b7-3fec3cebd8b1",
   "metadata": {},
   "source": [
    "# Análisis exploratorio de los datos"
   ]
  },
  {
   "cell_type": "markdown",
   "id": "be90adcc-b948-4594-978f-e3e3b12a59f2",
   "metadata": {},
   "source": [
    "## Utilizamos la librería `pandas-profiling` para tener una idea general de los datos "
   ]
  },
  {
   "cell_type": "code",
   "execution_count": null,
   "id": "a4dea72b-3c14-47ab-9f15-8148f046f02f",
   "metadata": {},
   "outputs": [],
   "source": [
    "# generate report to get quick insights of the data\n",
    "pd.options.plotting.backend = \"matplotlib\" \n",
    "profile = pp.ProfileReport(flights, title=\"Flights Report\")\n",
    "display(profile)\n",
    "pd.options.plotting.backend = \"plotly\" "
   ]
  },
  {
   "cell_type": "code",
   "execution_count": null,
   "id": "0f650a72-cbcb-499f-81e5-8cb107fc65de",
   "metadata": {},
   "outputs": [],
   "source": [
    "flights.info()"
   ]
  },
  {
   "cell_type": "markdown",
   "id": "5fb999c6-b605-4a77-8ea0-adf685f68990",
   "metadata": {},
   "source": [
    "## Revisión de duplicados"
   ]
  },
  {
   "cell_type": "code",
   "execution_count": null,
   "id": "e08bcc5f-0170-4228-acfe-4b1ac42112d3",
   "metadata": {},
   "outputs": [],
   "source": [
    "print(flights_raw.shape)\n",
    "print(flights_raw.drop_duplicates().shape)"
   ]
  },
  {
   "cell_type": "markdown",
   "id": "806dc9ee-35d3-4a78-8cf2-9d7cf4ddf701",
   "metadata": {},
   "source": [
    "- No hay duplicados de filas enteras en los datos crudos"
   ]
  },
  {
   "cell_type": "markdown",
   "id": "1a6d46fb-9dea-4f7d-b4f7-bf6594677df3",
   "metadata": {},
   "source": [
    "## Creamos columna con llave para identificar registros únicoas"
   ]
  },
  {
   "cell_type": "code",
   "execution_count": null,
   "id": "23e2f841-816c-41b6-822e-c15f83bca590",
   "metadata": {},
   "outputs": [],
   "source": [
    "key_cols = ['vlo_i', 'vlo_o', 'emp_i', 'emp_o', 'fecha_i', 'fecha_o']\n",
    "assert flights[key_cols].drop_duplicates().shape[0] == flights.shape[0]\n"
   ]
  },
  {
   "cell_type": "code",
   "execution_count": null,
   "id": "4fba5cab-0df6-4479-9ed8-09063edb422f",
   "metadata": {},
   "outputs": [],
   "source": [
    "flights['pk'] = flights[key_cols].astype(str).agg('.'.join, axis=1).str.replace('\\s', '+').str.replace(':','')"
   ]
  },
  {
   "cell_type": "markdown",
   "id": "53e531a8-85a9-42af-bf4f-9b511273bb43",
   "metadata": {},
   "source": [
    "## Agregamos data de aeropuertos a vuelos"
   ]
  },
  {
   "cell_type": "code",
   "execution_count": null,
   "id": "54bb599c-3230-41ec-9d6a-c5395a236ae8",
   "metadata": {},
   "outputs": [],
   "source": [
    "s_original = flights.shape[0]\n",
    "flights = flights.merge(airport_codes, left_on='des_i', right_on='ident', how='left')\n",
    "flights = flights.merge(airport_codes, left_on='des_o', right_on='ident', how='left', suffixes=['_i', '_o'])\n",
    "assert flights.ident_i.isna().sum() ==0, 'Airport data missing, add to csv file'\n",
    "assert flights.ident_o.isna().sum() ==0, 'Airport data missing, add to csv file'\n",
    "assert flights.shape[0] == s_original, 'Found duplicated airport ident, check csv file'"
   ]
  },
  {
   "cell_type": "markdown",
   "id": "e40ae253-5b83-4e81-8306-d4f601995c63",
   "metadata": {},
   "source": [
    "## Agregamos data de aerolineas a  vuelos"
   ]
  },
  {
   "cell_type": "code",
   "execution_count": null,
   "id": "758de50c-2196-4269-a186-16335ae5efc8",
   "metadata": {},
   "outputs": [],
   "source": [
    "s_original = flights.shape[0]\n",
    "flights = flights.merge(airline_codes.rename(columns={'airline':'airline_i', 'country_region':'airline_countryreg_i'}), how='left', left_on='emp_i', right_on='icao')\n",
    "flights = flights.merge(airline_codes.rename(columns={'airline':'airline_o', 'country_region':'airline_countryreg_o'}), how='left', left_on='emp_o', right_on='icao', suffixes=['_i', '_o'])\n",
    "assert flights.icao_i.isna().sum() == 0, 'Airline data missing, add to csv file'\n",
    "assert flights.icao_i.isna().sum() == 0, 'Airline data missing, add to csv file'\n",
    "assert flights.shape[0] == s_original, 'Found duplicated airline ident, check csv file'"
   ]
  },
  {
   "cell_type": "markdown",
   "id": "f6dff8aa-bb8a-491b-9cfa-bdded02d6475",
   "metadata": {},
   "source": [
    "## Ploteamos la ubicación de los aeropuertos de destino programados vs de la operación\n",
    "- Plot interactivo, hacer click en leyenda para activar desactivar puntos"
   ]
  },
  {
   "cell_type": "code",
   "execution_count": null,
   "id": "ba45472e-9294-40c8-8620-02a1dc93ef77",
   "metadata": {},
   "outputs": [],
   "source": [
    "# Count number of times a destiny was programed\n",
    "flights['des_name_i'] = flights.name_i + ' ('+ flights.des_i +')'\n",
    "flights['des_name_o'] = flights.name_o + ' ('+ flights.des_o +')'\n",
    "flights_des_i = flights.groupby(['des_name_i', 'lat_i', 'lon_i']).agg({'vlo_i':'count'}).rename(columns={'vlo_i':'n_flights'}).reset_index()\n",
    "flights_des_i['source']='itinerary'\n",
    "# Count number of times a destiny was flown to\n",
    "flights_des_o = flights.groupby(['des_name_o', 'lat_o', 'lon_o']).agg({'vlo_o':'count'}).rename(columns={'vlo_o':'n_flights'}).reset_index()\n",
    "flights_des_o['source']='operation'\n",
    "flights.airline_i  = flights.airline_i + ' ('+ flights.emp_i +')'\n",
    "flights.airline_o  = flights.airline_o + ' ('+ flights.emp_o +')'"
   ]
  },
  {
   "cell_type": "code",
   "execution_count": null,
   "id": "5438484f-b76c-49fc-9cf2-081cc48ae228",
   "metadata": {},
   "outputs": [],
   "source": [
    "# Plot in map\n",
    "flights_des_i.columns = flights_des_i.columns.str.rstrip('_i')\n",
    "flights_des_o.columns = flights_des_o.columns.str.rstrip('_o')\n",
    "flighs_des = pd.concat([flights_des_i, flights_des_o], axis=0)\n",
    "fig = px.scatter_geo(flighs_des,lat='lat', lon='lon', projection=\"natural earth\", hover_name=\"des_name\",\n",
    "                     color='source', size='n_flights', height=600, color_discrete_sequence=['#636EFA', '#FF7F0E'])\n",
    "fig.show()"
   ]
  },
  {
   "cell_type": "markdown",
   "id": "aa26ae74-b6e9-48cc-aed6-f02a8686c37b",
   "metadata": {},
   "source": [
    "- El grueso de los vuelos se encuentra en sudamerica\n",
    "- Pareciera ser que no hay mayores cambios entre los destinos de los vuelos programados y lo que sucede en la operación"
   ]
  },
  {
   "cell_type": "markdown",
   "id": "4fbd1391-7bcb-4a8d-a8c8-310d77306619",
   "metadata": {},
   "source": [
    "## Ploteo ciudades de destino"
   ]
  },
  {
   "cell_type": "code",
   "execution_count": null,
   "id": "377539cf-b91a-4cfa-b659-fae77c1a8a31",
   "metadata": {},
   "outputs": [],
   "source": [
    "flights_by_des_o = flights.siglades.value_counts().reset_index().rename(columns={'index':'siglades', 'siglades':'n'})\n",
    "flights_by_des_o['perc'] = flights_by_des_o.n/flights_by_des_o.n.sum()*100\n",
    "fig = flights_by_des_o.plot.bar(x='siglades', y ='perc', height=350, text='n')\n",
    "fig.update_xaxes(tickangle=42)\n",
    "fig.update_layout(xaxis_title=\"Destino\", yaxis_title=\"Vuelos (%)\")"
   ]
  },
  {
   "cell_type": "code",
   "execution_count": null,
   "id": "aa1fc9f3-21a8-41c5-8d23-60c86c52ce31",
   "metadata": {},
   "outputs": [],
   "source": [
    "flights_by_des_o['perc_cumsum'] = flights_by_des_o.perc.cumsum()\n",
    "flights_by_des_o[:8][['siglades', 'perc', 'perc_cumsum' ]]"
   ]
  },
  {
   "cell_type": "markdown",
   "id": "1af797d8-ad33-4263-aa5c-9381f6d59143",
   "metadata": {},
   "source": [
    "- 16 destinos acumulan el 80% de los vuelos\n",
    "- 8 destinos acumulan el grueso de los vuelos (56%)"
   ]
  },
  {
   "cell_type": "markdown",
   "id": "3420e84e-9ce0-48f3-a7b0-54d3d25d6ca9",
   "metadata": {},
   "source": [
    "## Revisión vuelos que cambiaron de destino"
   ]
  },
  {
   "cell_type": "code",
   "execution_count": null,
   "id": "2082bafc-ca23-4e59-a8ba-e0d540006f5f",
   "metadata": {},
   "outputs": [],
   "source": [
    "changed_flights_filter = flights.des_i != flights.des_o\n",
    "print(f'Des-I same as Des-O: {(~changed_flights_filter).sum():,} ({(~changed_flights_filter).sum()/flights.shape[0]*100:.2f}%)')\n",
    "print(f'N flights changed: {changed_flights_filter.sum()} ({changed_flights_filter.sum()/changed_flights_filter.shape[0]*100:.2f}%)')\n",
    "flights[changed_flights_filter][['des_i','name_i', 'des_o', 'name_o', 'siglades']]"
   ]
  },
  {
   "cell_type": "markdown",
   "id": "7c606996-0285-4782-86d9-81a081e66db9",
   "metadata": {},
   "source": [
    "- Son pocos vuelos con cambio de destino y en general nacionales, probablemente emergencias"
   ]
  },
  {
   "cell_type": "markdown",
   "id": "3552d087-3628-4f3b-8b61-2b89aa544c70",
   "metadata": {},
   "source": [
    "## Revisamos vuelos que cambiaron de aerolinea"
   ]
  },
  {
   "cell_type": "code",
   "execution_count": null,
   "id": "5bcfd4f8-6399-4be0-ae0b-f9115553f5e1",
   "metadata": {},
   "outputs": [],
   "source": [
    "flights.airline_i  = flights.airline_i + ' ('+ flights.emp_i +')'\n",
    "flights.airline_o  = flights.airline_o + ' ('+ flights.emp_o +')'\n",
    "fig_i = flights.airline_i.value_counts()\n",
    "fig_o = flights.airline_o.value_counts()\n",
    "fig = pd.concat([fig_i, fig_o], axis=1).plot.bar(barmode='overlay', color_discrete_sequence=['#636EFA', '#FF7F0E'], opacity=.8, height=600)\n",
    "fig.update_xaxes(tickangle=42)\n",
    "fig.update_layout(title={'text': \"Distribución aerolineas\"}, legend=dict(yanchor=\"top\", xanchor=\"right\", x = .95))"
   ]
  },
  {
   "cell_type": "markdown",
   "id": "ed9cd1f7-350b-486b-973e-b1ba3e8a85c9",
   "metadata": {},
   "source": [
    "- Latam chile pareciera delegar varios vuelos a Latam Express, quizá se programa todo con LAN pero en la operación se reasigna o puede ser que haya un problema de asignación desde un principio"
   ]
  },
  {
   "cell_type": "markdown",
   "id": "19e297be-abae-4fe7-9729-36cd760737ff",
   "metadata": {},
   "source": [
    "## Revisamos que aerolineas programadas no aparecen en las de la operación y viceversa"
   ]
  },
  {
   "cell_type": "code",
   "execution_count": null,
   "id": "c880509f-bf94-4fc3-9734-94dcb963338c",
   "metadata": {},
   "outputs": [],
   "source": [
    "not_in_op = set(flights.emp_i.unique()).difference(flights.emp_o.unique())\n",
    "not_in_op_flights = flights[flights.emp_i.isin(not_in_op)]\n",
    "print(f'Airlines missing in operation: {not_in_op} ({not_in_op_flights.shape[0]} rows)')\n",
    "print(f'Related operators: {not_in_op_flights.opera.unique()}')\n",
    "\n",
    "not_in_it = set(flights.emp_o.unique()).difference(flights.emp_i.unique())\n",
    "not_in_it_flights = flights[flights.emp_o.isin(not_in_it)]\n",
    "print(f'Airlines missing in itinerary: {not_in_it} ({not_in_it_flights.shape[0]} rows)')\n",
    "print(f'Related itinerary: {not_in_it_flights.opera.unique()}')"
   ]
  },
  {
   "cell_type": "markdown",
   "id": "2acfe122-66da-470a-b081-8244224c6c82",
   "metadata": {},
   "source": [
    "- Ver por que hay aerolineas que nunca aparecen en la operacion \n",
    "- 48O y 56R son de LAW, ya no existe esta aerolinea y pareciera ser un poerador virtual com se verá más abajo"
   ]
  },
  {
   "cell_type": "markdown",
   "id": "9e24575c-698b-401f-8181-c1fe72238e22",
   "metadata": {},
   "source": [
    "### **Revisión QFU y QFA**"
   ]
  },
  {
   "cell_type": "code",
   "execution_count": null,
   "id": "1312d513-c7de-461c-bcf2-6f7cb5649c3e",
   "metadata": {},
   "outputs": [],
   "source": [
    "display(flights[flights.emp_i=='QFU'][['emp_i', 'siglades']].siglades.unique())\n",
    "display(flights[flights.emp_i=='QFU'].vlo_i.unique())\n",
    "display(flights[flights.emp_o=='QFA'][['emp_o', 'siglades']].siglades.unique())\n",
    "display(flights[flights.emp_o=='QFA'].vlo_o.unique())"
   ]
  },
  {
   "cell_type": "code",
   "execution_count": null,
   "id": "04f5d36e-e8be-4267-8207-3ece1f29807c",
   "metadata": {},
   "outputs": [],
   "source": [
    "display(flights[(flights.emp_i=='QFU')&(flights.siglades=='Melbourne')])\n",
    "display(flights[(flights.emp_o=='QFA')&(flights.siglades=='Melbourne')])"
   ]
  },
  {
   "cell_type": "markdown",
   "id": "2c32e9fc-9957-415d-bf8f-da649f426823",
   "metadata": {},
   "source": [
    "- `QFU` y `QFA` son ambas `Qantas` pero con código distinto, puede ser una fusión de empresas\n",
    "- Solo un registro con destino `Melbourne` para el mismo número de vuelo, "
   ]
  },
  {
   "cell_type": "markdown",
   "id": "0d0f2cf8-41e2-464d-bd86-7f664d63edbe",
   "metadata": {},
   "source": [
    "## Cantidad de vuelos por fecha, operador, destino aerolinea\n"
   ]
  },
  {
   "cell_type": "code",
   "execution_count": null,
   "id": "e588d92e-4ac2-4c87-9c6b-3a1b42b1de2d",
   "metadata": {},
   "outputs": [],
   "source": [
    "flights['date_i'] = flights.fecha_i.dt.date\n",
    "flights['date_o'] = flights.fecha_i.dt.date"
   ]
  },
  {
   "cell_type": "code",
   "execution_count": null,
   "id": "fecce858-2145-447b-8f94-c6e08dfd0f4c",
   "metadata": {},
   "outputs": [],
   "source": [
    "print(f' date_i (n={flights.date_i.nunique()}) '.center(50,'='))\n",
    "print(f'median:{flights.date_i.value_counts().median()}')\n",
    "display(flights.date_i.value_counts().describe()[1:-1])\n",
    "print(f' date_o (n={flights.date_o.nunique()}) '.center(50,'='))\n",
    "print(f'median:{flights.date_o.value_counts().median()}')\n",
    "display(flights.date_o.value_counts().describe()[1:-1])\n",
    "print(f' emp_i (n={flights.emp_i.nunique()}) '.center(50,'='))\n",
    "print(f'median:{flights.emp_i.value_counts().median()}')\n",
    "display(flights.emp_i.value_counts().describe()[1:-1])\n",
    "print(f' emp_o (n={flights.emp_o.nunique()}) '.center(50,'='))\n",
    "print(f'median:{flights.emp_o.value_counts().median()}')\n",
    "display(flights.emp_o.value_counts().describe()[1:-1])\n",
    "print(f' siglades (n={flights.emp_i.nunique()}) '.center(50,'='))\n",
    "print(f'median:{flights.siglades.value_counts().median()}')\n",
    "display(flights.siglades.value_counts().describe()[1:-1])\n",
    "print(f' opera (n={flights.opera.nunique()}) '.center(50,'='))\n",
    "print(f'median:{flights.opera.value_counts().median()}')\n",
    "display(flights.opera.value_counts().describe()[1:-1])"
   ]
  },
  {
   "cell_type": "markdown",
   "id": "0f61a117-1109-4294-b0e0-fdf07d4c83d7",
   "metadata": {},
   "source": [
    "## Cantidad de vuelos por operador"
   ]
  },
  {
   "cell_type": "code",
   "execution_count": null,
   "id": "362c31a7-5d1f-4ff4-bed5-9988cc7e68dc",
   "metadata": {},
   "outputs": [],
   "source": [
    "flights_by_operator = flights.opera.value_counts().reset_index().rename(columns={'index':'opera', 'opera':'n'})\n",
    "flights_by_operator['perc'] = flights_by_operator.n/flights_by_operator.n.sum()*100\n",
    "fig = flights_by_operator.plot.bar(x='opera', y ='perc', width=800, height=350, text='n')\n",
    "fig.update_xaxes(tickangle=42)\n",
    "fig.update_layout(xaxis_title=\"operador\", yaxis_title=\"vuelos (%)\")"
   ]
  },
  {
   "cell_type": "markdown",
   "id": "cc6c5ef9-9fbf-4667-8c26-3b82f1f635a2",
   "metadata": {},
   "source": [
    "- El operador más grande es `LATAM` y `Sky` por mucho (60% + 20% del total)"
   ]
  },
  {
   "cell_type": "markdown",
   "id": "40a2f292-b206-4ae7-a882-9b1293c3af1f",
   "metadata": {},
   "source": [
    "### Revisar % de vuelos que cambian de aerolinea por operador"
   ]
  },
  {
   "cell_type": "code",
   "execution_count": null,
   "id": "2eb2713f-63af-4095-8d5c-892ec3050e2a",
   "metadata": {},
   "outputs": [],
   "source": [
    "flights_by_operator = flights.opera.value_counts().reset_index().rename(columns={'index':'opera','opera':'n_all'})\n",
    "changed_airline = flights.query('emp_i != emp_o').opera.value_counts().reset_index().rename(columns={'index':'opera','opera':'n'})\n",
    "changed_airline = changed_airline.merge(flights_by_operator, how='left', on='opera')\n",
    "changed_airline['perc'] = changed_airline.n/changed_airline.n_all*100\n",
    "changed_airline.plot.bar(x='opera', y=['perc'], width=600, height=300, text='n').update_layout(xaxis_title=\"Operador\", yaxis_title=\"Cambios en aerolinea original (%)\")"
   ]
  },
  {
   "cell_type": "code",
   "execution_count": null,
   "id": "3bd6a11c-8f42-42f9-b916-ba454167f734",
   "metadata": {},
   "outputs": [],
   "source": [
    "changed_airline.n.sum()/changed_airline.n_all.sum()*100"
   ]
  },
  {
   "cell_type": "markdown",
   "id": "9030850c-e0fe-4ce8-86fd-5c3d19068502",
   "metadata": {},
   "source": [
    "- `LATAM` tiene muchos cambios entre la aerolinea original del itinerario y la de la operación\n",
    "- `Latin American Wings` y `Qantas` parece ser operadores virtuales, casi el 100% de sus vuelos cambian de aerolinea\n",
    "- 40% de los vuelos cambia de aerolinea con respecto a la programada"
   ]
  },
  {
   "cell_type": "markdown",
   "id": "231e3e6c-2108-43cb-bb7b-1b046a59f0e2",
   "metadata": {},
   "source": [
    "## Horarios de viaje preferidos"
   ]
  },
  {
   "cell_type": "code",
   "execution_count": null,
   "id": "1f8421ce-5e73-4123-b48c-6562f124bb66",
   "metadata": {},
   "outputs": [],
   "source": [
    "%matplotlib inline\n",
    "fligths_time_vc = flights.fecha_i.dt.round('15min').dt.time.value_counts()\n",
    "fligths_time_vc = fligths_time_vc.reset_index().rename(columns={'index':'fecha_i', 'fecha_i':'n_flights'})\n",
    "fligths_time_vc['500>'] = fligths_time_vc.n_flights<700\n",
    "fig = fligths_time_vc.sort_values(by='fecha_i').plot.bar(x='fecha_i', y='n_flights', title='Distribución de vuelos según hora', text='n_flights', color='500>', color_discrete_sequence=['#FF7F0E', '#636EFA'])\n",
    "fig.update_layout(xaxis_title=\"Horario (intervalos de 15 min)\", yaxis_title=\"N vuelos\", xaxis_categoryorder = 'category ascending')"
   ]
  },
  {
   "cell_type": "markdown",
   "id": "d99fd84b-6b38-4fa3-bfff-65d4837746b8",
   "metadata": {},
   "source": [
    "- Horario más ocupado parece ser entre `6:00` y `9:30`\n",
    "- Baja en cantidad de `9:45` a `10:45`\n",
    "- Horario entre `23:00` y `5:45` en general es bajo en cantidad de vuelos"
   ]
  },
  {
   "cell_type": "markdown",
   "id": "6eac72d5-605b-4345-b69d-9f7d92ddbee3",
   "metadata": {},
   "source": [
    "## Comparamos la cantidad de vuelos entre dfechas programadas y las de la operación\n",
    "- Eliminamos los vuelos que llegaron el 2018-01-01 solo para efectos de la visualización"
   ]
  },
  {
   "cell_type": "code",
   "execution_count": null,
   "id": "b016847a-a736-44bc-b184-b863486e3eea",
   "metadata": {},
   "outputs": [],
   "source": [
    "# Compute n_flights for fecha_o\n",
    "fig_o = flights.fecha_o.dt.date.value_counts().sort_index()[:-1]\n",
    "# Compute n_flights for fecha_i\n",
    "fig_i = flights.fecha_i.dt.date.value_counts().sort_index()\n",
    "# Plot lines\n",
    "fig = pd.concat([fig_i, fig_o], axis=1).plot.line(color_discrete_sequence=['#636EFA', '#FF7F0E'], height=400, markers=True)\n",
    "date_intervals_limits = pd.to_datetime(['2017-01-01', '2017-03-03', '2017-07-15', '2017-07-31', '2017-09-11', '2017-09-30', '2017-12-15', '2017-12-31'])\n",
    "date_intervals_limits = date_intervals_limits.to_numpy().reshape((4,2))\n",
    "for i, [ds,de] in enumerate(date_intervals_limits):\n",
    "    fig.add_vrect(x0=str(ds), x1=str(de), \n",
    "                  annotation_text=\"Temporada Alta\", annotation_position=\"top left\",\n",
    "                  fillcolor=\"#00CC96\", opacity=0.25, line_width=0)\n",
    "    \n",
    "fig.add_vrect(x0='2017-03-04', x1='2017-07-02', \n",
    "              fillcolor=\"red\", opacity=0.08, line_width=0)\n",
    "fig.update_layout(xaxis={'tickangle':42}, title={'text': \"Distribución aerolineas\"}, legend=dict(yanchor=\"top\", xanchor=\"right\", x = .99, y=.3))"
   ]
  },
  {
   "cell_type": "markdown",
   "id": "8f04c004-4a23-4bf1-9c52-24a59d98e80e",
   "metadata": {},
   "source": [
    "- Todos los sábados coincide que hay una caida en la cantidad de vuelos, podría ser por caida en la demanda o algún tema logístico del aeropuerto\n",
    "- Fuerte alza en julio\n",
    "- la cantidad de vuelos es muy estacionaria\n",
    "- Baja a partir de fines de febrero (comienzan los colegios y termina la epoca de vacaciones) hasta inicios de julio [03-01/07-01]\n",
    "- La definicion de temporada alta parece estar subdimencionada para julio o podría ser un caso puntual para 2017\n",
    "- Las fechas con mayor cantidad de vuelo parecen ser de [01-01/03-01, 07-03/08-11, 11-13/12-12]"
   ]
  },
  {
   "cell_type": "markdown",
   "id": "94c83129-a122-4a8e-beef-d7a6a71195d1",
   "metadata": {},
   "source": []
  },
  {
   "cell_type": "markdown",
   "id": "c6dd4695-d920-472b-9ff0-6279d6140dd3",
   "metadata": {},
   "source": [
    "#### Insights\n",
    "- Vuelos aumentan bastante entre junio y julio, luego en octubre hasta diciembre hay alza\n",
    "- A fin de mes baja un poco la cantuidad de vuelos\n",
    "- El hay mas vuelos nacionales que nacionales\n",
    "- Los operadores principales son LAN y SKY por mucho\n",
    "- Columnas `SIGLAORI` y `Ori-O` no entregan información, todos los vuelos salen de santiago\n",
    "- Los vuelos de lan cambian mucho de aerolinea entre lan y lan express, ~30%, puede ser por que se creó lan express después que se hayan programado los viajes, o sino pueden haber problemas de asignación"
   ]
  },
  {
   "cell_type": "markdown",
   "id": "1ff8267f-2929-4cb2-a883-2abfb8abc891",
   "metadata": {},
   "source": [
    "## Cantidad de vuelos con más de 24 hr de atraso"
   ]
  },
  {
   "cell_type": "code",
   "execution_count": null,
   "id": "78324af5-3507-4cd3-8116-6f47be289deb",
   "metadata": {},
   "outputs": [],
   "source": [
    "((flights.date_o - flights.date_i).astype(int).abs()>1).sum()"
   ]
  },
  {
   "cell_type": "markdown",
   "id": "de62fd0f-2601-4932-a2f8-1af5578b2307",
   "metadata": {},
   "source": [
    "Vuelos no se atrasan más de un día"
   ]
  },
  {
   "cell_type": "markdown",
   "id": "cecad678-9512-4e09-a73f-0529edead361",
   "metadata": {},
   "source": [
    "## Tipo de vuelo por operador"
   ]
  },
  {
   "cell_type": "code",
   "execution_count": null,
   "id": "eda42f8c-2cd0-4e3b-91b4-5d9b7e7b1bfc",
   "metadata": {},
   "outputs": [],
   "source": [
    "flights.groupby(['opera', 'tipovuelo']).size().sort_values(ascending=False).reset_index().plot.bar(x='opera', y=0, color='tipovuelo', barmode='group')"
   ]
  },
  {
   "cell_type": "code",
   "execution_count": null,
   "id": "d9b57ab3-ebac-47c5-b8ff-5f7e938f67f9",
   "metadata": {},
   "outputs": [],
   "source": [
    "flights[flights.tipovuelo == 'N'].opera.unique()"
   ]
  },
  {
   "cell_type": "markdown",
   "id": "29ab043f-9561-4817-84ee-6c5621fca14d",
   "metadata": {},
   "source": [
    "- Muy pocos operadores que realicen vuelos nacionales\n",
    "- El fuerte de SKY son vuelos nacionales"
   ]
  },
  {
   "cell_type": "markdown",
   "id": "071f6fdc-84f0-41de-8149-b96fdd3cd50c",
   "metadata": {},
   "source": [
    "## Tipo de vuelo según días de la semana/meses"
   ]
  },
  {
   "cell_type": "code",
   "execution_count": null,
   "id": "7b1407e9-a0c4-4d77-baae-d614888b5399",
   "metadata": {},
   "outputs": [],
   "source": [
    "flights.groupby(['dianom', 'tipovuelo']).size().sort_values(ascending=False).reset_index().plot.bar(x='dianom', y=0, color='tipovuelo', barmode='group', width=800, height=350, text=0)\n",
    "#.bar(labels={'index':\"Dia semana\", 'value':\"N vuelos\", 'variable':''}, width=500, height=300, text='value')"
   ]
  },
  {
   "cell_type": "markdown",
   "id": "6dc24d19-8779-4bd6-bf36-11e05704c4d3",
   "metadata": {},
   "source": [
    "- La baja en vuelos que se ve el sábado se debe principlamente a una caida en vuelos Nacionales, quizá es un tema de precios o que la gente viaja los viernes en la noche para aprovechar el fin de semana\n",
    "- Internacionales se mantienen relativamente constantes con exepción del martes que bajan un poco"
   ]
  },
  {
   "cell_type": "code",
   "execution_count": null,
   "id": "9eba6419-09a9-47c0-aed8-a9fe7f59bf2d",
   "metadata": {},
   "outputs": [],
   "source": [
    "dianom_by_opera = flights.groupby(['dianom', 'opera']).size().sort_values(ascending=False).reset_index()\n",
    "n_flights_by_operator = dianom_by_opera.groupby('opera')[0].sum().reset_index().rename(columns={0:'n_all'})\n",
    "dianom_by_opera = dianom_by_opera.merge(n_flights_by_operator, on='opera', how='left')\n",
    "dianom_by_opera['perc'] = dianom_by_opera[0]/dianom_by_opera.n_all\n",
    "dianom_by_opera.plot.bar(x='opera', y='perc', color='dianom', barmode='group', height=500, text=0)"
   ]
  },
  {
   "cell_type": "code",
   "execution_count": null,
   "id": "594c9551-e454-4bfd-bd10-30606b4815c8",
   "metadata": {},
   "outputs": [],
   "source": [
    "flights.groupby(['mes', 'tipovuelo']).size().reset_index().sort_values(by='mes').plot.line(x='mes', y=0, color='tipovuelo', width=800, height=350)"
   ]
  },
  {
   "cell_type": "markdown",
   "id": "90551189-969b-460e-b6fc-541aedb06c23",
   "metadata": {},
   "source": [
    "- Vuelos nacionales e internacionales se comportan parecido durante hasta septiembre dónde los vuelos nacionales se disparan"
   ]
  },
  {
   "cell_type": "code",
   "execution_count": null,
   "id": "a787150e-4bd5-4721-9093-5a16c01c3b88",
   "metadata": {},
   "outputs": [],
   "source": [
    "flights['time_15'] = flights.fecha_i.dt.round('15min').dt.time\n",
    "flights.groupby(['dianom', 'time_15']).size().sort_index().reset_index().plot.line(x='time_15', color ='dianom', y=0, height=350)"
   ]
  },
  {
   "cell_type": "markdown",
   "id": "ac27f388-9f1d-426a-971b-b931060d7cb9",
   "metadata": {},
   "source": [
    "- No parece hae"
   ]
  },
  {
   "cell_type": "markdown",
   "id": "9526511e-4b89-4816-a68d-0d73c5c98305",
   "metadata": {},
   "source": [
    "# Generación `Synthetic Features`"
   ]
  },
  {
   "cell_type": "markdown",
   "id": "3b951024-676a-47f8-8e4f-4d1d39c84c55",
   "metadata": {},
   "source": [
    "## Temporada alta"
   ]
  },
  {
   "cell_type": "code",
   "execution_count": null,
   "id": "78b5b657-8863-4f60-ba5b-93448214a575",
   "metadata": {},
   "outputs": [],
   "source": [
    "flights['fecha_i_doy'] = flights.fecha_i.dt.day_of_year\n",
    "flights['temporada_alta'] = False\n",
    "date_intervals_limits = pd.to_datetime(['2017-01-01', '2017-03-03', '2017-07-15', '2017-07-31', '2017-09-11', '2017-09-30', '2017-12-15', '2017-12-31']).day_of_year\n",
    "date_intervals_limits = date_intervals_limits.to_numpy().reshape((4,2))\n",
    "for [ds, de] in date_intervals_limits:\n",
    "    flights['temporada_alta']  = flights['temporada_alta'] | ((flights['fecha_i_doy'] >= ds) & (flights['fecha_i_doy'] <= de))\n",
    "flights['temporada_alta'] = flights['temporada_alta'].astype(int)\n",
    "flights[['temporada_alta', 'fecha_i']].sample(10)"
   ]
  },
  {
   "cell_type": "markdown",
   "id": "a3251cd0-4b0e-4209-b0a4-14269d74f532",
   "metadata": {},
   "source": [
    "### Revisión promedio vuelos por día según temporada"
   ]
  },
  {
   "cell_type": "code",
   "execution_count": null,
   "id": "07850081-aa8c-446b-bd6a-49e6a8155adb",
   "metadata": {},
   "outputs": [],
   "source": [
    "flights_by_season = flights.groupby('temporada_alta').agg({'date_i':'nunique', 'date_o':'nunique', 'dia':'count'}).rename(columns={'dia':'n'})\n",
    "flights_by_season['mean_daily_flights_i'] =  flights_by_season.n/flights_by_season.date_i\n",
    "flights_by_season['mean_daily_flights_o'] =  flights_by_season.n/flights_by_season.date_o\n",
    "flights_by_season"
   ]
  },
  {
   "cell_type": "markdown",
   "id": "63e1bd18-9ab0-4e32-a8d6-6658bb61d3d2",
   "metadata": {},
   "source": [
    "- Las fechas de temporada alta parecen no impactar mucho en la cantidad de vuelos diarios, el promedio de vuelos diarios no varía mucho (+5%)\n",
    "- Puede ser que el 2017 las fechas de temporada alta hayan cambiado c/r a años anteriores, o las fechas de temporada alta no están muy bien definidas"
   ]
  },
  {
   "cell_type": "markdown",
   "id": "6d012b98-3edb-47b5-808a-c139b795bd06",
   "metadata": {},
   "source": [
    "## Periodo día"
   ]
  },
  {
   "cell_type": "code",
   "execution_count": null,
   "id": "5a391be8-b4f7-44b1-9dd3-ef5d3bc7860a",
   "metadata": {},
   "outputs": [],
   "source": [
    "flights['fecha_i_time'] = flights.fecha_i.dt.time\n",
    "# morning 5:00 - 11:59\n",
    "morning = 1*((flights['fecha_i_time']>=datetime.time(5,0)) & (flights['fecha_i_time']<=datetime.time(11,59)))\n",
    "# afternoon 12:00 - 18:59\n",
    "afternoon = 2*((flights['fecha_i_time']>=datetime.time(12,0)) & (flights['fecha_i_time']<=datetime.time(18,59)))\n",
    "# night 19:00 - 4:59\n",
    "night =3*((flights['fecha_i_time']<=datetime.time(4,59)) | (flights['fecha_i_time']>=datetime.time(19,0)))\n",
    "# Join conditions and replace number with category name\n",
    "flights['periodo_dia'] = (morning + afternoon + night).map({1:'mañana', 2:'tarde', 3:'noche'})\n",
    "flights[['periodo_dia', 'fecha_i_time']].sample(5)"
   ]
  },
  {
   "cell_type": "code",
   "execution_count": null,
   "id": "7b59dfd1-9fe6-4f9c-b268-e2f0c2640146",
   "metadata": {},
   "outputs": [],
   "source": [
    "flights.periodo_dia.value_counts()"
   ]
  },
  {
   "cell_type": "code",
   "execution_count": null,
   "id": "79bb945d-9dc0-4790-86fc-98462664c2a8",
   "metadata": {},
   "outputs": [],
   "source": [
    "flights.groupby(['siglades', 'periodo_dia']).size().reset_index().plot.bar(x='siglades', y=0, color='periodo_dia', barmode='group')"
   ]
  },
  {
   "cell_type": "code",
   "execution_count": null,
   "id": "35102b28-c86b-483e-8346-b34ba2883a60",
   "metadata": {},
   "outputs": [],
   "source": [
    "flights.groupby(['opera', 'periodo_dia']).size().reset_index().plot.bar(x='opera', y=0, color='periodo_dia', barmode='group')"
   ]
  },
  {
   "cell_type": "code",
   "execution_count": null,
   "id": "b0a3b8ea-ab5b-4120-b96b-67661a0f6d0b",
   "metadata": {},
   "outputs": [],
   "source": [
    "flights.groupby(['tipovuelo', 'periodo_dia']).size().reset_index().plot.bar(x='tipovuelo', y=0, color='periodo_dia', barmode='group', width=500, height=300)"
   ]
  },
  {
   "cell_type": "markdown",
   "id": "ef85b2e2-8cd2-45ec-b743-d2d184c68b20",
   "metadata": {},
   "source": [
    "- Horario nocturno es el menos preferido para vuelos nacionales"
   ]
  },
  {
   "cell_type": "markdown",
   "id": "c0b43d8a-c110-422a-bace-82ae4726112b",
   "metadata": {},
   "source": [
    "## Diferencia en minutos entre hora planificada y hora real (min atraso)"
   ]
  },
  {
   "cell_type": "code",
   "execution_count": null,
   "id": "7de03f1d-86f2-4fc8-abd4-a474fc21c740",
   "metadata": {},
   "outputs": [],
   "source": [
    "flights['dif_min'] = (flights.fecha_o - flights.fecha_i).astype('timedelta64[m]').astype(int)\n",
    "flights[['fecha_i', 'fecha_o', 'dif_min']].sample(5)"
   ]
  },
  {
   "cell_type": "code",
   "execution_count": null,
   "id": "154fd117-0a86-4485-9e3f-bf0b11cc332e",
   "metadata": {},
   "outputs": [],
   "source": [
    "flights['dif_min'].value_counts().plot.bar()"
   ]
  },
  {
   "cell_type": "code",
   "execution_count": null,
   "id": "32aac68b-4b91-4d89-a6b8-f07617f45a60",
   "metadata": {},
   "outputs": [],
   "source": [
    "print(f'Kurtosis: {flights[\"dif_min\"].kurt():.2f}')\n",
    "print(f'Skewness: {flights[\"dif_min\"].skew():.2f}')\n",
    "flights[\"dif_min\"].describe([.8, .82, .9, .95]).reset_index()"
   ]
  },
  {
   "cell_type": "markdown",
   "id": "f92e42f7-c847-4d47-aa70-610e0c6739fb",
   "metadata": {},
   "source": [
    "- Los tiempos de atraso parecen distribuir normal con alta kurtosis y un poco de asimetría\n",
    "- ~82% tiene atraso >15 min"
   ]
  },
  {
   "cell_type": "code",
   "execution_count": null,
   "id": "5e0e2d9e-a8a2-4c09-8901-caa4de26d11c",
   "metadata": {
    "tags": []
   },
   "outputs": [],
   "source": [
    "flights_by_opera = flights.groupby('opera').agg({'dif_min':['count','mean']})\n",
    "flights_by_opera.columns = ['n', 'mean']\n",
    "flights_by_opera.reset_index().plot.bar(x='opera', y='mean', text='n')"
   ]
  },
  {
   "cell_type": "code",
   "execution_count": null,
   "id": "7d0f098f-4431-4f85-9381-7e894b68d27b",
   "metadata": {
    "tags": []
   },
   "outputs": [],
   "source": [
    "flights.plot.box(x='opera', y='dif_min', height=500)"
   ]
  },
  {
   "cell_type": "code",
   "execution_count": null,
   "id": "d4b9374d-af39-4b45-9e1f-b923e295b7b6",
   "metadata": {
    "tags": []
   },
   "outputs": [],
   "source": [
    "flights.plot.box(x='airline_i', y='dif_min', height=500)"
   ]
  },
  {
   "cell_type": "code",
   "execution_count": null,
   "id": "f307dba3-4e57-4ba5-8ab1-14e5277519ef",
   "metadata": {
    "tags": []
   },
   "outputs": [],
   "source": [
    "flights.plot.box(x='mes', y='dif_min', width=600, height=500)"
   ]
  },
  {
   "cell_type": "code",
   "execution_count": null,
   "id": "96ac1910-f14f-451f-a1dd-2a0701dc2e95",
   "metadata": {
    "tags": []
   },
   "outputs": [],
   "source": [
    "flights.plot.box(x='dianom', y='dif_min',width=600, height=500)"
   ]
  },
  {
   "cell_type": "code",
   "execution_count": null,
   "id": "9e87a040-7263-4131-b6a7-79267bf99258",
   "metadata": {
    "tags": []
   },
   "outputs": [],
   "source": [
    "flights.plot.box(x='tipovuelo', y='dif_min', width=400, height=400)"
   ]
  },
  {
   "cell_type": "code",
   "execution_count": null,
   "id": "e2056a56-9666-4d17-9403-1874bea18cc2",
   "metadata": {
    "tags": []
   },
   "outputs": [],
   "source": [
    "flights.plot.box(x='temporada_alta', y='dif_min', width=400, height=400)"
   ]
  },
  {
   "cell_type": "code",
   "execution_count": null,
   "id": "b454b432-13de-4f3e-9f16-aa8b44bdfe44",
   "metadata": {
    "tags": []
   },
   "outputs": [],
   "source": [
    "flights.groupby('siglades').dif_min.mean().plot.bar(text='value')"
   ]
  },
  {
   "cell_type": "markdown",
   "id": "120c7a48-3de0-4ad8-850f-cf1a0ca594ad",
   "metadata": {},
   "source": [
    "Hay aerolineas, destinos y operadores que presentan calramente más retrasos que otras, probablemente el promedio en retrasos de cada una de estas dimensiones sea clave para lograr buenas predicciones"
   ]
  },
  {
   "cell_type": "markdown",
   "id": "a3ddd228-ac6e-46ec-ad48-6565d8e30037",
   "metadata": {},
   "source": [
    "## Atraso mayor a 15 minutos"
   ]
  },
  {
   "cell_type": "code",
   "execution_count": null,
   "id": "84246814-78aa-411f-88dc-4d29d6a990db",
   "metadata": {},
   "outputs": [],
   "source": [
    "flights['atraso_15'] = (flights['dif_min'] > 15).astype(int)\n",
    "flights[['dif_min','atraso_15']].sample(5)"
   ]
  },
  {
   "cell_type": "code",
   "execution_count": null,
   "id": "2d6f40c3-03f4-46a5-9167-495e6b30581d",
   "metadata": {},
   "outputs": [],
   "source": [
    "flights['atraso_15'].sum()/flights.shape[0]"
   ]
  },
  {
   "cell_type": "code",
   "execution_count": null,
   "id": "8f3ba34a-bbf3-4a34-9f78-25e037594cee",
   "metadata": {},
   "outputs": [],
   "source": [
    "flights.plot.box(x=['airline_i'], y='dif_min')"
   ]
  },
  {
   "cell_type": "code",
   "execution_count": null,
   "id": "eb905b69-220d-4cc1-851d-f267efa16c0b",
   "metadata": {},
   "outputs": [],
   "source": [
    "flights.plot.box(x='siglades', y='dif_min')"
   ]
  },
  {
   "cell_type": "code",
   "execution_count": null,
   "id": "d8672505-640e-474d-b963-c33ccaae8767",
   "metadata": {},
   "outputs": [],
   "source": [
    "flights.plot.box(x='opera', y='dif_min')"
   ]
  },
  {
   "cell_type": "markdown",
   "id": "2dddad90-145c-4f45-a55d-15ec05703808",
   "metadata": {},
   "source": [
    "### Destino"
   ]
  },
  {
   "cell_type": "code",
   "execution_count": null,
   "id": "056e08e2-6bcb-4702-8f13-80240ec47c73",
   "metadata": {},
   "outputs": [],
   "source": [
    "delays_by_destination = flights.groupby(['siglades']).agg({'atraso_15':'sum', 'dia':'count'}).rename(columns={'dia':'n'})\n",
    "delays_by_destination['perc'] = delays_by_destination.atraso_15/delays_by_destination.n\n",
    "delays_by_destination['500<'] = delays_by_destination.n>500\n",
    "fig = delays_by_destination.sort_values(by='perc', ascending=False).plot.bar(y='perc', text='n', color='500<', color_discrete_sequence=['#636EFA', '#FF7F0E'])\n",
    "fig.update_layout(xaxis_title=\"Destino\", yaxis_title=\"Atrasos (%)\", xaxis_categoryorder = 'total descending')"
   ]
  },
  {
   "cell_type": "markdown",
   "id": "06703ba5-40f6-45a7-8723-98c1203cb88d",
   "metadata": {},
   "source": [
    "### Aerolínea"
   ]
  },
  {
   "cell_type": "code",
   "execution_count": null,
   "id": "c61e6fdf-e025-453a-8366-20097bf8656c",
   "metadata": {},
   "outputs": [],
   "source": [
    "delays_by_airline = flights.groupby(['airline_i']).agg({'atraso_15':'sum', 'dia':'count'}).rename(columns={'dia':'n'})\n",
    "delays_by_airline['perc'] = delays_by_airline.atraso_15/delays_by_airline.n\n",
    "delays_by_airline['500<'] = delays_by_airline.n>500\n",
    "fig = delays_by_airline.sort_values(by='perc', ascending=False).plot.bar(y='perc', text='n', color='500<', color_discrete_sequence=['#636EFA', '#FF7F0E'])\n",
    "fig.update_layout(xaxis_title=\"Destino\", yaxis_title=\"Atrasos (%)\", xaxis_categoryorder = 'total descending')"
   ]
  },
  {
   "cell_type": "code",
   "execution_count": null,
   "id": "de142060-6135-4e5e-83b9-36a57547f248",
   "metadata": {},
   "outputs": [],
   "source": [
    "delays_by_airline = flights.groupby(['airline_o']).agg({'atraso_15':'sum', 'dia':'count'}).rename(columns={'dia':'n'})\n",
    "delays_by_airline['perc'] = delays_by_airline.atraso_15/delays_by_airline.n\n",
    "delays_by_airline['500<'] = delays_by_airline.n>500\n",
    "fig = delays_by_airline.sort_values(by='perc', ascending=False).plot.bar(y='perc', text='n', color='500<', color_discrete_sequence=['#636EFA', '#FF7F0E'])\n",
    "fig.update_layout(xaxis_title=\"Destino\", yaxis_title=\"Atrasos (%)\", xaxis_categoryorder = 'total descending')"
   ]
  },
  {
   "cell_type": "code",
   "execution_count": null,
   "id": "f36a7cae-31e2-43a7-8439-5d731616fd7f",
   "metadata": {},
   "outputs": [],
   "source": [
    "delays_by_destination = flights.groupby(['date_i']).agg({'atraso_15':'sum', 'dia':'count'}).rename(columns={'dia':'n'})\n",
    "delays_by_destination['perc'] = delays_by_destination.atraso_15/delays_by_destination.n\n",
    "delays_by_destination['500<'] = delays_by_destination.n>500\n",
    "fig = delays_by_destination.sort_values(by='perc', ascending=False).plot.bar(y='perc', text='n', color='500<', color_discrete_sequence=['#636EFA', '#FF7F0E'])\n",
    "fig.update_layout(xaxis_title=\"Destino\", yaxis_title=\"Atrasos (%)\", xaxis_categoryorder = 'total descending')"
   ]
  },
  {
   "cell_type": "markdown",
   "id": "18925f05-f9bc-4592-affd-693f60bcfd7d",
   "metadata": {},
   "source": [
    "### Mes del año"
   ]
  },
  {
   "cell_type": "markdown",
   "id": "4347be85-e340-4def-bafe-409368cf23e3",
   "metadata": {},
   "source": [
    "### Día de la semana"
   ]
  },
  {
   "cell_type": "markdown",
   "id": "ecb95d4f-9c07-4e8a-b0c7-c8bc1618320d",
   "metadata": {},
   "source": [
    "### Tipo de vuelo"
   ]
  },
  {
   "cell_type": "markdown",
   "id": "a5c77af3-935a-4b11-aa0d-b2617e9e56f9",
   "metadata": {},
   "source": [
    "### Temporada"
   ]
  },
  {
   "cell_type": "markdown",
   "id": "23da132c-6616-492a-8e96-b7cc08ea5616",
   "metadata": {},
   "source": [
    "# Data Prep y Modelo"
   ]
  },
  {
   "cell_type": "code",
   "execution_count": null,
   "id": "061ecde3-af95-4001-aae7-307f37ada8d6",
   "metadata": {},
   "outputs": [],
   "source": [
    "from sklearn.model_selection import TimeSeriesSplit"
   ]
  },
  {
   "cell_type": "markdown",
   "id": "434c406d-761a-4612-b1eb-de4e68f2fd19",
   "metadata": {},
   "source": [
    "## Consideraciones"
   ]
  },
  {
   "cell_type": "markdown",
   "id": "f7a6c404-273a-47be-9a3e-ac180781e30c",
   "metadata": {},
   "source": [
    "- Para predecir la probabilidad de vuelo no deberíamos tener nada de información de la operación por lo que no usaremos las variables asociadas a esta (`-O`), por ejemplo si sabemos que un vuelo cambió de destino con respecto a lo programado, o que cambió de aerolinea, número de vuelo u otros probablemente tenga una atraso, pero es algo que en la realidad no sabremos hasta que pase\n",
    "- También hay que tener cuidado al armar las features para evitar `Data Leakage`, dependiendo de como armemos el set de test y train podría ocurrir que usamos información de test de forma inadvertida (al calcular promedios, porcentajes, u otros sobre toda la data en lugar de solo los datos de entrenamiento).\n",
    "- Suponiendo que el  modelo debe ser capáz de predecir atrasos para cualqueir vuelo en cualquier epoca del año se hará un sampleo aleatorio de fechas para definir el set de train y test. Si tomamos los últimos X meses como el periodo de test el modelo queda ciego a cambios en el comportamiento que podrían darse debido a la epoca del año (sin tomar en cuenta la variable de temporada_alta que se construyó). Con esto queda descartado el uso de variables de lag que abarquen más de 1 día. Podrían haber sido utilles ya que si habían 10 vuelos programados para una fecha y salieron 9 \n",
    "- Sería interesante extraer datos del clima del origen y el destino con una API ya qe afecta directamente a los vuelos y probablemente a los atrasos, pero por tiempo no se hizo \n",
    "- También podría agregarse datos de los vuelos del aeropuerto de destino, el vuelo podría salir perfecto pero si el aeropuerto de destino tiene problemas se atrasará igual\n",
    "- Se descarta el uso de redes neuronales ya que no hay tantos muchos datos, podría hacers fine-tuning de un modelo pre-entrenado pero hay que buscarlo y modificarlo lo que es lento y no vale la pena en esta instancia\n",
    "- Podrían usarse modelos de detección de anomalía pero como no hay muchas features del vuelo en sí se descartan\n",
    "- Por tiempo se probaran solo modelos de arboles de decision, probablemente regresiones simples y modelos más tradicionales como SVM den peores resultados.\n",
    "- La libreía de árboles a ser utilizada es CatBoost e XGBoost o LightGBM. Y hay variables categóricas que parecen ser importnates en este problema"
   ]
  },
  {
   "cell_type": "markdown",
   "id": "7e84bfb9-3821-4c51-b79a-6ac9b487718a",
   "metadata": {},
   "source": [
    "## Creación set train y test"
   ]
  },
  {
   "cell_type": "code",
   "execution_count": null,
   "id": "847f1a6f-df31-4f4e-9745-5df47671408b",
   "metadata": {},
   "outputs": [],
   "source": [
    "# Create column to indicate day of year\n",
    "flights['doy_i'] = flights.fecha_i.dt.day_of_year\n",
    "# Pick randmo dates\n",
    "dates_choice = np.random.choice(flights['doy_i'].unique(), size=int(flights['doy_i'].unique().shape[0]*.20), replace=False)\n",
    "# Create index to split data into train and test\n",
    "test_idx = flights['doy_i'].isin(dates_choice)\n",
    "train_idx = ~test_idx"
   ]
  },
  {
   "cell_type": "markdown",
   "id": "d3b796c7-9673-4317-9110-89f2612a2bcc",
   "metadata": {},
   "source": [
    "### Creación features generales\n",
    "Creación de variables pára las que no necesitamos separar el set de test del set de train por problemas de data leakage"
   ]
  },
  {
   "cell_type": "markdown",
   "id": "5ea40e45-82ca-4fcf-98f0-4a6563888d9c",
   "metadata": {},
   "source": [
    "#### Codificamos variables ciclicas como la hora y el día del mes"
   ]
  },
  {
   "cell_type": "code",
   "execution_count": null,
   "id": "566589e7-eb0a-4a32-a31f-596e0fe082be",
   "metadata": {},
   "outputs": [],
   "source": [
    "# Encode date of month\n",
    "flights['dia_mes_cos'] = np.cos(2*np.pi*(flights['dia']/flights['dia'].max()))\n",
    "flights['dia_semana_cos'] = np.cos(2*np.pi*(flights.fecha_i.dt.day_of_week/flights.fecha_i.dt.day_of_week.max()))\n",
    "# Encode time of day\n",
    "flights['time_i_num'] = flights.fecha_i.dt.round('5min').dt.time.astype(str).str.replace(':', '').astype(int)/100\n",
    "flights['time_i_cos'] = np.cos(2*np.pi*(flights.time_i_num/flights.time_i_num.max()))"
   ]
  },
  {
   "cell_type": "markdown",
   "id": "6b16c7d1-3f15-4043-b3e4-e7b2c836f654",
   "metadata": {},
   "source": [
    "#### Agregamos algunas variables dummy"
   ]
  },
  {
   "cell_type": "code",
   "execution_count": null,
   "id": "7cf8953a-6eb1-4742-a237-1f6b72aff368",
   "metadata": {},
   "outputs": [],
   "source": [
    "# Add dummise for tipovuelo\n",
    "flights = pd.concat([flights, pd.get_dummies(flights.tipovuelo, prefix='tv_')],axis=1)\n",
    "# Add dummise for periodo_dia\n",
    "flights = pd.concat([flights, pd.get_dummies(flights.periodo_dia, prefix='pd_')],axis=1)\n",
    "# Add dummise for temporada_alta\n",
    "flights = pd.concat([flights, pd.get_dummies(flights.temporada_alta, prefix='ta_')],axis=1)"
   ]
  },
  {
   "cell_type": "markdown",
   "id": "4ad39389-7dc9-4068-8685-78c8cead7c29",
   "metadata": {},
   "source": [
    "#### Agregamos la cantidad de vuelos programados para el día"
   ]
  },
  {
   "cell_type": "code",
   "execution_count": null,
   "id": "7bd43ece-8900-4eb7-aaf2-711969d6a3d8",
   "metadata": {},
   "outputs": [],
   "source": [
    "# Add number of flights programmed for the day\n",
    "flights = flights.merge(flights.groupby('date_i').dia.count().reset_index().rename(columns={'dia':'n_flights_date_i'}), on='date_i', how='left')"
   ]
  },
  {
   "cell_type": "markdown",
   "id": "c8ce51b3-4945-4b51-b71d-231a88c653a2",
   "metadata": {},
   "source": [
    "## Creación de splits de train y test"
   ]
  },
  {
   "cell_type": "code",
   "execution_count": null,
   "id": "dbd2d552-0e58-4c8f-89bb-cac14fdc411d",
   "metadata": {},
   "outputs": [],
   "source": [
    "# Set target column\n",
    "target_col = 'atraso_15'\n",
    "# Split train data and target column\n",
    "train_x = flights[train_idx].drop(columns=target_col)\n",
    "train_y = flights[train_idx][target_col]\n",
    "# Split test data and target column\n",
    "test_x = flights[test_idx].drop(columns=target_col)\n",
    "test_y = flights[test_idx].atraso_15"
   ]
  },
  {
   "cell_type": "markdown",
   "id": "ff5a1e2e-e60d-4aad-a285-91e01da049e0",
   "metadata": {},
   "source": [
    "## Creación de features post splits"
   ]
  },
  {
   "cell_type": "markdown",
   "id": "6bcebf46-d5dc-4ecf-8511-c861676075c1",
   "metadata": {},
   "source": [
    "### Agregamos distribución de vuelos por día de la seman para cada operador"
   ]
  },
  {
   "cell_type": "code",
   "execution_count": null,
   "id": "20ef8208-4d80-4d86-92e3-6d4de1c3db6b",
   "metadata": {},
   "outputs": [],
   "source": [
    "# Count flights by weekday for each operator\n",
    "dianom_by_opera = train_x.groupby(['dianom', 'opera']).size().sort_values(ascending=False).reset_index()\n",
    "n_train_x_by_operator = dianom_by_opera.groupby('opera')[0].sum().reset_index().rename(columns={0:'n'})\n",
    "dianom_by_opera = dianom_by_opera.merge(n_train_x_by_operator, on='opera', how='left')\n",
    "# Add percentage of flights by weekday and percentage of flights with respect to total\n",
    "dianom_by_opera['perc'] = dianom_by_opera[0]/dianom_by_opera.n\n",
    "dianom_by_opera['perc_total'] = dianom_by_opera.n/dianom_by_opera.n.sum()\n",
    "dianom_by_opera_dist = dianom_by_opera.pivot_table(columns='dianom', values='perc', index='opera').fillna(0)\n",
    "dianom_by_opera_dist = dianom_by_opera_dist.reset_index()"
   ]
  },
  {
   "cell_type": "markdown",
   "id": "cc8eb569-9f74-4155-a903-fa2399320d6d",
   "metadata": {},
   "source": [
    "#### Calculamos promedio y desviación de tiempo de atraso del operador"
   ]
  },
  {
   "cell_type": "code",
   "execution_count": null,
   "id": "7f4843ef-bcc1-46d1-a0b2-58e2db81dacc",
   "metadata": {},
   "outputs": [],
   "source": [
    "delay_by_opera = train_x.groupby('opera').agg({'dia':['mean','std']})\n",
    "delay_by_opera.columns = ['opera_mean', 'opera_std']\n",
    "delay_by_opera = delay_by_opera"
   ]
  },
  {
   "cell_type": "markdown",
   "id": "adae71df-8fd9-44e4-b3c9-ecd0c9d31c7e",
   "metadata": {},
   "source": [
    "#### Calculamos promedio y desviación de tiempo de atraso de la aerolinea programada"
   ]
  },
  {
   "cell_type": "code",
   "execution_count": null,
   "id": "74dd23ed-5026-4de7-bd54-743f8ec182fb",
   "metadata": {},
   "outputs": [],
   "source": [
    "delay_by_airline = train_x.groupby('emp_i').agg({'dia':['mean','std']})\n",
    "delay_by_airline.columns = ['emp_mean', 'emp_i_std']\n",
    "delay_by_airline = delay_by_airline"
   ]
  },
  {
   "cell_type": "markdown",
   "id": "7358ae44-98e0-416f-bdcf-0ce87399a0b8",
   "metadata": {},
   "source": [
    "#### Calculamos promedio y desviación de tiempo de atraso del destino"
   ]
  },
  {
   "cell_type": "code",
   "execution_count": null,
   "id": "f4661112-39ee-4a9a-9c00-685bfae300dc",
   "metadata": {},
   "outputs": [],
   "source": [
    "delay_by_dest = train_x.groupby('des_i').agg({'dia':['mean','std']})\n",
    "delay_by_dest.columns = ['des_mean', 'des_i_std']\n",
    "delay_by_dest = delay_by_dest"
   ]
  },
  {
   "cell_type": "markdown",
   "id": "68b8da7b-ff08-4e59-9f9b-05b4be49adb2",
   "metadata": {},
   "source": [
    "#### Agregamos las features de tiempod e atraso"
   ]
  },
  {
   "cell_type": "code",
   "execution_count": null,
   "id": "d5178081-c1aa-4fdc-aa45-b3c0a054b770",
   "metadata": {},
   "outputs": [],
   "source": [
    "# Add operator weekdays distribution\n",
    "train_x = train_x.merge(dianom_by_opera_dist, how='left', on='opera')\n",
    "test_x = test_x.merge(dianom_by_opera_dist, how='left', on='opera')\n",
    "# Add operator time diff distribution\n",
    "train_x = train_x.merge(delay_by_opera, how='left', on='opera')\n",
    "test_x = test_x.merge(delay_by_opera, how='left', on='opera')\n",
    "# Add operator time diff distribution\n",
    "train_x = train_x.merge(delay_by_airline, how='left', on='emp_i')\n",
    "test_x = test_x.merge(delay_by_airline, how='left', on='emp_i')\n",
    "# Add operator time diff distribution\n",
    "train_x = train_x.merge(delay_by_dest, how='left', on='des_i')\n",
    "test_x = test_x.merge(delay_by_dest, how='left', on='des_i')"
   ]
  },
  {
   "cell_type": "markdown",
   "id": "d46eb9d2-6519-4f43-a827-99ef9c070d4d",
   "metadata": {},
   "source": [
    "#### Definimos las features a ser utilizadas"
   ]
  },
  {
   "cell_type": "code",
   "execution_count": null,
   "id": "8067676e-4223-4bbe-bc5c-a0ec85a89f4f",
   "metadata": {},
   "outputs": [],
   "source": [
    "# Set feature names\n",
    "features = ['tipovuelo', 'siglades', 'opera', 'temporada_alta', 'periodo_dia', 'emp_i', 'dianom', 'dia_mes_cos', 'dia_semana_cos', 'time_i_cos', 'n_flights_date_i'] +\\\n",
    "list(dianom_by_opera_dist.drop(columns=['opera']).columns)+\\\n",
    "list(delay_by_dest.columns)+\\\n",
    "list(delay_by_airline.columns)+\\\n",
    "list(delay_by_opera.columns)+\\\n",
    "list(flights.filter(regex='tv_.*').columns) + \\\n",
    "list(flights.filter(regex='pd_.*').columns)+ \\\n",
    "list(flights.filter(regex='ta_.*').columns)\n",
    "# Set categorical feature names\n",
    "cat_features = ['tipovuelo', 'siglades', 'opera', 'temporada_alta', 'periodo_dia', 'emp_i', 'dianom']\n"
   ]
  },
  {
   "cell_type": "markdown",
   "id": "2b9f9795-a333-4c24-8e7a-7fb3b6eb3c21",
   "metadata": {},
   "source": [
    "#### Definimos train test pool"
   ]
  },
  {
   "cell_type": "code",
   "execution_count": null,
   "id": "45602713-25de-4742-98a2-1f3ca163ae79",
   "metadata": {},
   "outputs": [],
   "source": [
    "pool_train = ctb.Pool(train_x[features], train_y,cat_features = cat_features)\n",
    "pool_test = ctb.Pool(test_x[features], cat_features = cat_features)"
   ]
  },
  {
   "cell_type": "markdown",
   "id": "43536a6a-8fb2-4bc8-ae05-3170e0538a49",
   "metadata": {},
   "source": [
    "#### Revisamos el desbalanceo de las clases para corregirlo en la misma librería del modelo"
   ]
  },
  {
   "cell_type": "code",
   "execution_count": null,
   "id": "3685b742-abbd-4274-8f79-e078faacd92e",
   "metadata": {},
   "outputs": [],
   "source": [
    "weights = 1 - (train_y.value_counts()/train_y.shape[0]).values\n",
    "weights"
   ]
  },
  {
   "cell_type": "markdown",
   "id": "ed80fe8e-d7e7-4a79-b969-9e67dbebae4f",
   "metadata": {},
   "source": [
    "#### Elegimos los mejores parámetros"
   ]
  },
  {
   "cell_type": "code",
   "execution_count": null,
   "id": "887dbd29-8452-43b6-ab0e-fd01ae51d1ce",
   "metadata": {
    "tags": []
   },
   "outputs": [],
   "source": [
    "## Initialize CatBoostRegressor\n",
    "#model = ctb.CatBoostClassifier(class_weights=weights, logging_level='Silent')\n",
    "#grid = {'iterations':[50, 100, 500],\n",
    "#        'learning_rate': [0.03, 0.1],\n",
    "#        'depth': [3, 5]}\n",
    "#grid_search_result = model.grid_search(grid, pool_train)\n",
    "#print(grid_search_result['params'])"
   ]
  },
  {
   "cell_type": "markdown",
   "id": "62eb481b-ec80-401d-8015-fc0875145cb7",
   "metadata": {},
   "source": [
    "#### Enrenamos el modelo"
   ]
  },
  {
   "cell_type": "code",
   "execution_count": null,
   "id": "ec0c3395-4050-4198-a441-cea704c5f082",
   "metadata": {
    "tags": []
   },
   "outputs": [],
   "source": [
    "# Fit model\n",
    "#model = ctb.CatBoostClassifier(max_depth=5, loss_function='Logloss')\n",
    "weights = {0:.2, 1:.8}\n",
    "model = ctb.CatBoostClassifier(class_weights=weights, depth= 3, iterations= 500, learning_rate= 0.1, logging_level='Silent')\n",
    "model.fit(pool_train)\n"
   ]
  },
  {
   "cell_type": "markdown",
   "id": "0ba92704-02c7-43c9-bdc4-9770fb7d8d17",
   "metadata": {},
   "source": [
    "#### Generamos las predicciones de enterenamiento y evaluamos"
   ]
  },
  {
   "cell_type": "code",
   "execution_count": null,
   "id": "aa10030e-607a-40de-a801-512179f91f01",
   "metadata": {},
   "outputs": [],
   "source": [
    "# Get predictions\n",
    "preds = model.predict(train_x[features])\n",
    "preds_prob = model.predict_proba(train_x[features])\n",
    "\n",
    "clf_report = classification_report(train_y, preds)\n",
    "print(clf_report)\n",
    "pd.DataFrame(preds)[0].describe()"
   ]
  },
  {
   "cell_type": "code",
   "execution_count": null,
   "id": "0f7cd437-29b8-41e2-b7cc-f4ff24ba4885",
   "metadata": {},
   "outputs": [],
   "source": [
    "print(f'mean confidence is late:{preds_prob[train_y==1, 1].mean()}')\n",
    "print(f'% is late:{(preds==1).sum()/preds.shape[0]*100}')"
   ]
  },
  {
   "cell_type": "markdown",
   "id": "e9c7943b-9f10-446b-9ba9-e911cd6296b8",
   "metadata": {},
   "source": [
    "#### Revisamos que variables son las mas relevantes"
   ]
  },
  {
   "cell_type": "code",
   "execution_count": null,
   "id": "0354b980-7e38-4ad6-bc37-494bd100ff40",
   "metadata": {},
   "outputs": [],
   "source": [
    "import shap\n",
    "shap.initjs()\n",
    "explainer = shap.TreeExplainer(model)\n",
    "shap_values = explainer.shap_values(train_x[features])\n",
    "# visualize the first prediction's explanation\n",
    "shap.summary_plot(shap_values, train_x[features], max_display=30)"
   ]
  },
  {
   "cell_type": "markdown",
   "id": "602dbd7f-94c8-40ab-bce3-ecc594fb4ff4",
   "metadata": {},
   "source": [
    " - Variable n_flights_date_i parece tener un alto impacto en la predicción del modelo\n",
    " - El promedio de atraso de los destinos tambien parece ser informativca y util par el modelo\n",
    " - Falta probar distintas combianciones de variables y ver cuales funcionan mejor\n",
    " - a veces si una variable tiene mucho peso hace que el modleo no mire le resto, hay que ver como se comprota el modelo al quitar el número de vuelos por día que tiene mucho impaco"
   ]
  },
  {
   "cell_type": "markdown",
   "id": "6851d493-bef5-44e3-bddb-d4e028885d0a",
   "metadata": {},
   "source": [
    "#### Evaluamos el desempeño en el set de test"
   ]
  },
  {
   "cell_type": "code",
   "execution_count": null,
   "id": "a445f405-9be6-459c-94e5-1e27320864f1",
   "metadata": {},
   "outputs": [],
   "source": [
    "# Get predictions\n",
    "preds = model.predict(test_x[features])\n",
    "preds_prob = model.predict_proba(test_x[features])\n",
    "\n",
    "clf_report = classification_report(test_y, preds)\n",
    "print(clf_report)"
   ]
  },
  {
   "cell_type": "code",
   "execution_count": null,
   "id": "a7a13c0b-985b-4e09-bedc-fabf09d94852",
   "metadata": {},
   "outputs": [],
   "source": [
    "print(f'mean confidence is late:{preds_prob[test_y==1, 1].mean()}')\n",
    "print(f'% is late:{(preds==1).sum()/preds.shape[0]*100}')"
   ]
  },
  {
   "cell_type": "markdown",
   "id": "4afbfe11-4390-49ae-a2f1-71fa921df00f",
   "metadata": {},
   "source": [
    "- Lamentablemente faltó tiempo para complementar con más datos, crear nuevas variables y poder hacer una buena selección de las mejores\n",
    "- El desempeño del modelo aún puede mejorarse bastante, es muy poco preciso y sería ideal subir el recall de los atrasos para poder tomar acciones que permitan facilitar el manejo logístico en el aeropuerto con anticipación\n",
    "- Dependiendo de si hay recursos se podría enfocar esfuerzos en mejorar la precisión del modleo para evitar falsas alarmas"
   ]
  },
  {
   "cell_type": "code",
   "execution_count": null,
   "id": "c739cabc-242d-4b26-b9e4-03b2c7ebf023",
   "metadata": {},
   "outputs": [],
   "source": []
  }
 ],
 "metadata": {
  "kernelspec": {
   "display_name": "Python 3 (ipykernel)",
   "language": "python",
   "name": "python3"
  },
  "language_info": {
   "codemirror_mode": {
    "name": "ipython",
    "version": 3
   },
   "file_extension": ".py",
   "mimetype": "text/x-python",
   "name": "python",
   "nbconvert_exporter": "python",
   "pygments_lexer": "ipython3",
   "version": "3.10.8"
  },
  "toc-autonumbering": true,
  "toc-showcode": false,
  "toc-showmarkdowntxt": false
 },
 "nbformat": 4,
 "nbformat_minor": 5
}
